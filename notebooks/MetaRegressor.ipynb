{
 "cells": [
  {
   "cell_type": "code",
   "execution_count": 1,
   "metadata": {},
   "outputs": [
    {
     "name": "stdout",
     "output_type": "stream",
     "text": [
      "Requirement already satisfied: kappaml-core in /Users/aleximbrea/opt/anaconda3/envs/kappaml-core/lib/python3.12/site-packages (0.0.1.post1.dev8+g0a960b9)\n",
      "Requirement already satisfied: river>=0.9.0 in /Users/aleximbrea/opt/anaconda3/envs/kappaml-core/lib/python3.12/site-packages (from kappaml-core) (0.21.2)\n",
      "Requirement already satisfied: numpy<2.0.0,>=1.23.0 in /Users/aleximbrea/opt/anaconda3/envs/kappaml-core/lib/python3.12/site-packages (from river>=0.9.0->kappaml-core) (1.26.4)\n",
      "Requirement already satisfied: pandas<3.0,>=2.1 in /Users/aleximbrea/opt/anaconda3/envs/kappaml-core/lib/python3.12/site-packages (from river>=0.9.0->kappaml-core) (2.2.3)\n",
      "Requirement already satisfied: scipy<2.0.0,>=1.12.1 in /Users/aleximbrea/opt/anaconda3/envs/kappaml-core/lib/python3.12/site-packages (from river>=0.9.0->kappaml-core) (1.14.1)\n",
      "Requirement already satisfied: python-dateutil>=2.8.2 in /Users/aleximbrea/opt/anaconda3/envs/kappaml-core/lib/python3.12/site-packages (from pandas<3.0,>=2.1->river>=0.9.0->kappaml-core) (2.9.0)\n",
      "Requirement already satisfied: pytz>=2020.1 in /Users/aleximbrea/opt/anaconda3/envs/kappaml-core/lib/python3.12/site-packages (from pandas<3.0,>=2.1->river>=0.9.0->kappaml-core) (2024.2)\n",
      "Requirement already satisfied: tzdata>=2022.7 in /Users/aleximbrea/opt/anaconda3/envs/kappaml-core/lib/python3.12/site-packages (from pandas<3.0,>=2.1->river>=0.9.0->kappaml-core) (2024.2)\n",
      "Requirement already satisfied: six>=1.5 in /Users/aleximbrea/opt/anaconda3/envs/kappaml-core/lib/python3.12/site-packages (from python-dateutil>=2.8.2->pandas<3.0,>=2.1->river>=0.9.0->kappaml-core) (1.16.0)\n",
      "Note: you may need to restart the kernel to use updated packages.\n"
     ]
    }
   ],
   "source": [
    "%pip install -U kappaml-core"
   ]
  },
  {
   "cell_type": "code",
   "execution_count": 2,
   "metadata": {},
   "outputs": [
    {
     "data": {
      "text/plain": [
       "MAE: 0.567126\n",
       "RMSE: 0.750355"
      ]
     },
     "execution_count": 2,
     "metadata": {},
     "output_type": "execute_result"
    }
   ],
   "source": [
    "from river import (\n",
    "    datasets,\n",
    "    metrics,\n",
    "    optim,\n",
    "    preprocessing,\n",
    ")\n",
    "\n",
    "from river.evaluate import progressive_val_score\n",
    "from river.linear_model import LinearRegression\n",
    "\n",
    "from kappaml_core import meta\n",
    "\n",
    "def evaluate(model):\n",
    "    X_y = datasets.Phishing()\n",
    "    metric = metrics.MAE() + metrics.RMSE()\n",
    "    return progressive_val_score(\n",
    "        X_y, model, metric, print_every=25_000, show_time=True, show_memory=True\n",
    "    )\n",
    "\n",
    "models = [\n",
    "    preprocessing.PredClipper(\n",
    "        LinearRegression(optimizer=optim.SGD(lr=lr)),\n",
    "        y_min=1,\n",
    "        y_max=5,\n",
    "    )\n",
    "    for lr in [0.025, 0.05, 0.1]\n",
    "]\n",
    "\n",
    "model = meta.MetaRegressor(models=models)\n",
    "evaluate(model)\n",
    "\n"
   ]
  }
 ],
 "metadata": {
  "interpreter": {
   "hash": "4871f8187ed4d2452a37c2ff5c3c2764f06c2d78b48746307568efc61cd3dd73"
  },
  "kernelspec": {
   "display_name": "Python 3.9.7 64-bit ('kappaml-core': conda)",
   "language": "python",
   "name": "python3"
  },
  "language_info": {
   "codemirror_mode": {
    "name": "ipython",
    "version": 3
   },
   "file_extension": ".py",
   "mimetype": "text/x-python",
   "name": "python",
   "nbconvert_exporter": "python",
   "pygments_lexer": "ipython3",
   "version": "3.12.7"
  },
  "orig_nbformat": 4
 },
 "nbformat": 4,
 "nbformat_minor": 2
}
