{
 "cells": [
  {
   "cell_type": "code",
   "execution_count": 8,
   "metadata": {},
   "outputs": [
    {
     "name": "stdout",
     "output_type": "stream",
     "text": [
      "Collecting kappaml-core\n",
      "  Downloading kappaml_core-0.0.1-py3-none-any.whl (8.2 kB)\n",
      "Installing collected packages: kappaml-core\n",
      "Successfully installed kappaml-core-0.0.1\n",
      "Note: you may need to restart the kernel to use updated packages.\n"
     ]
    }
   ],
   "source": [
    "%pip install -U kappaml-core"
   ]
  },
  {
   "cell_type": "code",
   "execution_count": 9,
   "metadata": {},
   "outputs": [
    {
     "ename": "ImportError",
     "evalue": "cannot import name 'meta' from 'kappaml_core' (/Users/aleximbrea/opt/anaconda3/envs/py385/lib/python3.8/site-packages/kappaml_core/__init__.py)",
     "output_type": "error",
     "traceback": [
      "\u001b[0;31m---------------------------------------------------------------------------\u001b[0m",
      "\u001b[0;31mImportError\u001b[0m                               Traceback (most recent call last)",
      "\u001b[0;32m/var/folders/dq/kb88zzd53pn286gwf9ls0nsm0000gn/T/ipykernel_6638/893265361.py\u001b[0m in \u001b[0;36m<module>\u001b[0;34m\u001b[0m\n\u001b[1;32m      9\u001b[0m \u001b[0;32mfrom\u001b[0m \u001b[0mriver\u001b[0m\u001b[0;34m.\u001b[0m\u001b[0mevaluate\u001b[0m \u001b[0;32mimport\u001b[0m \u001b[0mprogressive_val_score\u001b[0m\u001b[0;34m\u001b[0m\u001b[0;34m\u001b[0m\u001b[0m\n\u001b[1;32m     10\u001b[0m \u001b[0;34m\u001b[0m\u001b[0m\n\u001b[0;32m---> 11\u001b[0;31m \u001b[0;32mfrom\u001b[0m \u001b[0mkappaml_core\u001b[0m \u001b[0;32mimport\u001b[0m \u001b[0mmeta\u001b[0m\u001b[0;34m\u001b[0m\u001b[0;34m\u001b[0m\u001b[0m\n\u001b[0m",
      "\u001b[0;31mImportError\u001b[0m: cannot import name 'meta' from 'kappaml_core' (/Users/aleximbrea/opt/anaconda3/envs/py385/lib/python3.8/site-packages/kappaml_core/__init__.py)"
     ]
    }
   ],
   "source": [
    "from river import (\n",
    "    datasets,\n",
    "    metrics,\n",
    "    optim,\n",
    "    preprocessing,\n",
    "    reco,\n",
    ")\n",
    "\n",
    "from river.evaluate import progressive_val_score\n",
    "\n",
    "from kappaml_core import meta"
   ]
  },
  {
   "cell_type": "code",
   "execution_count": null,
   "metadata": {},
   "outputs": [],
   "source": [
    "def evaluate(model):\n",
    "    X_y = datasets.MovieLens100K()\n",
    "    metric = metrics.MAE() + metrics.RMSE()\n",
    "    return progressive_val_score(\n",
    "        X_y, model, metric, print_every=25_000, show_time=True, show_memory=True\n",
    "    )\n"
   ]
  },
  {
   "cell_type": "code",
   "execution_count": null,
   "metadata": {},
   "outputs": [],
   "source": [
    "models = [\n",
    "    preprocessing.PredClipper(\n",
    "        reco.Baseline(\n",
    "            optimizer=optim.SGD(lr=lr),\n",
    "            l2=0.0,\n",
    "            initializer=optim.initializers.Zeros(),\n",
    "        ),\n",
    "        y_min=1,\n",
    "        y_max=5,\n",
    "    )\n",
    "    for lr in [0.025, 0.05, 0.1]\n",
    "]\n",
    "\n",
    "model = meta.MetaRegressor(models=models)\n",
    "evaluate(model)"
   ]
  },
  {
   "cell_type": "code",
   "execution_count": null,
   "metadata": {},
   "outputs": [],
   "source": []
  }
 ],
 "metadata": {
  "interpreter": {
   "hash": "4871f8187ed4d2452a37c2ff5c3c2764f06c2d78b48746307568efc61cd3dd73"
  },
  "kernelspec": {
   "display_name": "Python 3.9.7 64-bit ('kappaml-core': conda)",
   "language": "python",
   "name": "python3"
  },
  "language_info": {
   "codemirror_mode": {
    "name": "ipython",
    "version": 3
   },
   "file_extension": ".py",
   "mimetype": "text/x-python",
   "name": "python",
   "nbconvert_exporter": "python",
   "pygments_lexer": "ipython3",
   "version": "3.8.5"
  },
  "orig_nbformat": 4
 },
 "nbformat": 4,
 "nbformat_minor": 2
}
